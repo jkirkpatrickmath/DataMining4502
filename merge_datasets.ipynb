{
 "cells": [
  {
   "cell_type": "code",
   "execution_count": 47,
   "metadata": {},
   "outputs": [],
   "source": [
    "import pandas as pd\n",
    "import numpy as np\n",
    "import matplotlib.pyplot as plt\n",
    "%matplotlib inline\n",
    "import scipy as sp\n",
    "import seaborn as sns; sns.set()"
   ]
  },
  {
   "cell_type": "code",
   "execution_count": 97,
   "metadata": {},
   "outputs": [],
   "source": [
    "hmd = pd.read_csv(\"selected_hmd\", parse_dates = {\"date\" : ['year', 'week']})\n",
    "covid = pd.read_csv(\"selected_covid_weekly\", parse_dates = {\"date\" : ['year', 'week']})"
   ]
  },
  {
   "cell_type": "code",
   "execution_count": 71,
   "metadata": {},
   "outputs": [
    {
     "data": {
      "text/html": [
       "<div>\n",
       "<style scoped>\n",
       "    .dataframe tbody tr th:only-of-type {\n",
       "        vertical-align: middle;\n",
       "    }\n",
       "\n",
       "    .dataframe tbody tr th {\n",
       "        vertical-align: top;\n",
       "    }\n",
       "\n",
       "    .dataframe thead th {\n",
       "        text-align: right;\n",
       "    }\n",
       "</style>\n",
       "<table border=\"1\" class=\"dataframe\">\n",
       "  <thead>\n",
       "    <tr style=\"text-align: right;\">\n",
       "      <th></th>\n",
       "      <th>date</th>\n",
       "      <th>Unnamed: 0</th>\n",
       "      <th>country</th>\n",
       "      <th>total_cases</th>\n",
       "      <th>new_cases</th>\n",
       "      <th>total_deaths</th>\n",
       "      <th>new_deaths</th>\n",
       "      <th>total_cases_per_million</th>\n",
       "      <th>hosp_patients</th>\n",
       "      <th>population</th>\n",
       "    </tr>\n",
       "  </thead>\n",
       "  <tbody>\n",
       "    <tr>\n",
       "      <th>0</th>\n",
       "      <td>2020 4</td>\n",
       "      <td>0</td>\n",
       "      <td>AUS</td>\n",
       "      <td>4.0</td>\n",
       "      <td>4.0</td>\n",
       "      <td>NaN</td>\n",
       "      <td>0.0</td>\n",
       "      <td>0.155</td>\n",
       "      <td>NaN</td>\n",
       "      <td>25788217.0</td>\n",
       "    </tr>\n",
       "    <tr>\n",
       "      <th>1</th>\n",
       "      <td>2020 5</td>\n",
       "      <td>1</td>\n",
       "      <td>AUS</td>\n",
       "      <td>5.0</td>\n",
       "      <td>8.0</td>\n",
       "      <td>NaN</td>\n",
       "      <td>0.0</td>\n",
       "      <td>0.194</td>\n",
       "      <td>NaN</td>\n",
       "      <td>25788217.0</td>\n",
       "    </tr>\n",
       "    <tr>\n",
       "      <th>2</th>\n",
       "      <td>2020 6</td>\n",
       "      <td>2</td>\n",
       "      <td>AUS</td>\n",
       "      <td>12.0</td>\n",
       "      <td>3.0</td>\n",
       "      <td>NaN</td>\n",
       "      <td>0.0</td>\n",
       "      <td>0.465</td>\n",
       "      <td>NaN</td>\n",
       "      <td>25788217.0</td>\n",
       "    </tr>\n",
       "    <tr>\n",
       "      <th>3</th>\n",
       "      <td>2020 7</td>\n",
       "      <td>3</td>\n",
       "      <td>AUS</td>\n",
       "      <td>15.0</td>\n",
       "      <td>0.0</td>\n",
       "      <td>NaN</td>\n",
       "      <td>0.0</td>\n",
       "      <td>0.582</td>\n",
       "      <td>NaN</td>\n",
       "      <td>25788217.0</td>\n",
       "    </tr>\n",
       "    <tr>\n",
       "      <th>4</th>\n",
       "      <td>2020 8</td>\n",
       "      <td>4</td>\n",
       "      <td>AUS</td>\n",
       "      <td>15.0</td>\n",
       "      <td>0.0</td>\n",
       "      <td>NaN</td>\n",
       "      <td>0.0</td>\n",
       "      <td>0.582</td>\n",
       "      <td>NaN</td>\n",
       "      <td>25788217.0</td>\n",
       "    </tr>\n",
       "    <tr>\n",
       "      <th>...</th>\n",
       "      <td>...</td>\n",
       "      <td>...</td>\n",
       "      <td>...</td>\n",
       "      <td>...</td>\n",
       "      <td>...</td>\n",
       "      <td>...</td>\n",
       "      <td>...</td>\n",
       "      <td>...</td>\n",
       "      <td>...</td>\n",
       "      <td>...</td>\n",
       "    </tr>\n",
       "    <tr>\n",
       "      <th>3651</th>\n",
       "      <td>2022 1</td>\n",
       "      <td>3651</td>\n",
       "      <td>USA</td>\n",
       "      <td>56345834.0</td>\n",
       "      <td>5064970.0</td>\n",
       "      <td>830299.0</td>\n",
       "      <td>11876.0</td>\n",
       "      <td>169249.873</td>\n",
       "      <td>108779.0</td>\n",
       "      <td>332915074.0</td>\n",
       "    </tr>\n",
       "    <tr>\n",
       "      <th>3652</th>\n",
       "      <td>2022 2</td>\n",
       "      <td>3652</td>\n",
       "      <td>USA</td>\n",
       "      <td>61703251.0</td>\n",
       "      <td>5614161.0</td>\n",
       "      <td>842288.0</td>\n",
       "      <td>13542.0</td>\n",
       "      <td>185342.316</td>\n",
       "      <td>142248.0</td>\n",
       "      <td>332915074.0</td>\n",
       "    </tr>\n",
       "    <tr>\n",
       "      <th>3653</th>\n",
       "      <td>2022 3</td>\n",
       "      <td>3653</td>\n",
       "      <td>USA</td>\n",
       "      <td>66610143.0</td>\n",
       "      <td>4951791.0</td>\n",
       "      <td>854838.0</td>\n",
       "      <td>14705.0</td>\n",
       "      <td>200081.487</td>\n",
       "      <td>150906.0</td>\n",
       "      <td>332915074.0</td>\n",
       "    </tr>\n",
       "    <tr>\n",
       "      <th>3654</th>\n",
       "      <td>2022 4</td>\n",
       "      <td>3654</td>\n",
       "      <td>USA</td>\n",
       "      <td>71802940.0</td>\n",
       "      <td>3561887.0</td>\n",
       "      <td>870600.0</td>\n",
       "      <td>16801.0</td>\n",
       "      <td>215679.450</td>\n",
       "      <td>144756.0</td>\n",
       "      <td>332915074.0</td>\n",
       "    </tr>\n",
       "    <tr>\n",
       "      <th>3655</th>\n",
       "      <td>2022 5</td>\n",
       "      <td>3655</td>\n",
       "      <td>USA</td>\n",
       "      <td>74992871.0</td>\n",
       "      <td>1892587.0</td>\n",
       "      <td>887824.0</td>\n",
       "      <td>16000.0</td>\n",
       "      <td>225261.266</td>\n",
       "      <td>123998.0</td>\n",
       "      <td>332915074.0</td>\n",
       "    </tr>\n",
       "  </tbody>\n",
       "</table>\n",
       "<p>3656 rows × 10 columns</p>\n",
       "</div>"
      ],
      "text/plain": [
       "        date  Unnamed: 0 country  total_cases  new_cases  total_deaths  \\\n",
       "0     2020 4           0     AUS          4.0        4.0           NaN   \n",
       "1     2020 5           1     AUS          5.0        8.0           NaN   \n",
       "2     2020 6           2     AUS         12.0        3.0           NaN   \n",
       "3     2020 7           3     AUS         15.0        0.0           NaN   \n",
       "4     2020 8           4     AUS         15.0        0.0           NaN   \n",
       "...      ...         ...     ...          ...        ...           ...   \n",
       "3651  2022 1        3651     USA   56345834.0  5064970.0      830299.0   \n",
       "3652  2022 2        3652     USA   61703251.0  5614161.0      842288.0   \n",
       "3653  2022 3        3653     USA   66610143.0  4951791.0      854838.0   \n",
       "3654  2022 4        3654     USA   71802940.0  3561887.0      870600.0   \n",
       "3655  2022 5        3655     USA   74992871.0  1892587.0      887824.0   \n",
       "\n",
       "      new_deaths  total_cases_per_million  hosp_patients   population  \n",
       "0            0.0                    0.155            NaN   25788217.0  \n",
       "1            0.0                    0.194            NaN   25788217.0  \n",
       "2            0.0                    0.465            NaN   25788217.0  \n",
       "3            0.0                    0.582            NaN   25788217.0  \n",
       "4            0.0                    0.582            NaN   25788217.0  \n",
       "...          ...                      ...            ...          ...  \n",
       "3651     11876.0               169249.873       108779.0  332915074.0  \n",
       "3652     13542.0               185342.316       142248.0  332915074.0  \n",
       "3653     14705.0               200081.487       150906.0  332915074.0  \n",
       "3654     16801.0               215679.450       144756.0  332915074.0  \n",
       "3655     16000.0               225261.266       123998.0  332915074.0  \n",
       "\n",
       "[3656 rows x 10 columns]"
      ]
     },
     "execution_count": 71,
     "metadata": {},
     "output_type": "execute_result"
    }
   ],
   "source": [
    "covid"
   ]
  },
  {
   "cell_type": "code",
   "execution_count": 98,
   "metadata": {},
   "outputs": [],
   "source": [
    "merged_df = pd.merge(hmd, covid, on=['country', 'date'])"
   ]
  },
  {
   "cell_type": "code",
   "execution_count": 99,
   "metadata": {},
   "outputs": [],
   "source": [
    "merged_df['date'] = pd.to_datetime(merged_df['date'] + ' 0', format='%Y %W %w')\n",
    "merged_df = merged_df.sort_values(by='date')"
   ]
  },
  {
   "cell_type": "code",
   "execution_count": 100,
   "metadata": {},
   "outputs": [],
   "source": [
    "USA_date = merged_df[merged_df.country == 'USA'].date\n",
    "USA_DTotal = merged_df[merged_df.country == 'USA'].DTotal\n"
   ]
  },
  {
   "cell_type": "code",
   "execution_count": 103,
   "metadata": {},
   "outputs": [
    {
     "data": {
      "text/plain": [
       "[<matplotlib.lines.Line2D at 0x178482ac700>]"
      ]
     },
     "execution_count": 103,
     "metadata": {},
     "output_type": "execute_result"
    },
    {
     "data": {
      "image/png": "[encoded data removed]",
      "text/plain": [
       "<Figure size 432x288 with 1 Axes>"
      ]
     },
     "metadata": {},
     "output_type": "display_data"
    }
   ],
   "source": [
    "plt.plot(USA_date, USA_DTotal)"
   ]
  },
  {
   "cell_type": "code",
   "execution_count": null,
   "metadata": {},
   "outputs": [],
   "source": []
  }
 ],
 "metadata": {
  "interpreter": {
   "hash": "f07a8180f57076bde2bfbb377716fbc0d470817ad2ce9f4b9204c8f5facd8e88"
  },
  "kernelspec": {
   "display_name": "Python 3 (ipykernel)",
   "language": "python",
   "name": "python3"
  },
  "language_info": {
   "codemirror_mode": {
    "name": "ipython",
    "version": 3
   },
   "file_extension": ".py",
   "mimetype": "text/x-python",
   "name": "python",
   "nbconvert_exporter": "python",
   "pygments_lexer": "ipython3",
   "version": "3.9.6"
  }
 },
 "nbformat": 4,
 "nbformat_minor": 4
}
