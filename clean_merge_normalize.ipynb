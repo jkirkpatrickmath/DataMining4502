{
 "cells": [
  {
   "cell_type": "code",
   "execution_count": 1,
   "metadata": {},
   "outputs": [],
   "source": [
    "import pandas as pd\n",
    "import numpy as np\n",
    "import matplotlib.pyplot as plt\n",
    "%matplotlib inline\n",
    "import scipy as sp\n",
    "import scipy.stats as stats\n",
    "import statsmodels.formula.api as smf"
   ]
  },
  {
   "cell_type": "code",
   "execution_count": 2,
   "metadata": {},
   "outputs": [],
   "source": [
    "hmd = pd.read_csv(\"./hmd_weekly_deaths/stmf.csv\") #mortality dataset\n",
    "coviddb = pd.read_csv(\"owid-covid-data.csv\") #covid dataset\n",
    "\n",
    "#Make a list of the country codes from the coviddb that appear in the hmd\n",
    "country_codes = ['AUS', 'AUT', 'BEL', 'BGR', 'HRV', 'CAN', 'CHL', 'CZE', 'DNK', 'GBR', 'EST',\n",
    " 'FIN', 'FRA', 'DEU', 'GRC', 'HUN', 'ISL', 'ISR', 'ITA', 'LVA', 'LTU', 'LUX', 'NLD',\n",
    "  'NZL', 'NOR', 'POL', 'PRT', 'KOR', 'RUS', 'SVN', 'SVK', 'ESP', 'CHE', 'SWE', 'TWN', 'USA']\n",
    "\n",
    "coviddb_selected = coviddb[coviddb.iso_code.isin(country_codes)] #filter out unmatching countries\n",
    "\n",
    "#Trim data to useful attributes\n",
    "coviddb_selected=coviddb_selected[['iso_code','date', 'total_cases','new_cases', 'total_deaths', 'new_deaths', 'total_cases_per_million', 'new_cases_per_million', 'hosp_patients', 'population']]\n",
    "\n",
    "coviddb_selected['date']=pd.to_datetime(coviddb_selected['date']) #convert date column to datetime\n",
    "\n",
    "#convert country to category\n",
    "coviddb_selected.iso_code.astype('category')\n",
    "\n",
    "#resample from daily to weekly\n",
    "coviddb_selected = coviddb_selected.reset_index().groupby('iso_code', as_index=False).resample('w', on = 'date').\\\n",
    "agg({'total_cases':'first', 'new_cases':'sum','total_deaths':'first','new_deaths':'sum','total_cases_per_million':'first', 'new_cases_per_million':'sum',\\\n",
    "'hosp_patients':'first','population':'first'}).reset_index()\n",
    "\n",
    "#restore columns\n",
    "coviddb_selected.rename(columns={'level_0':'country'}, inplace = True)"
   ]
  },
  {
   "cell_type": "code",
   "execution_count": 3,
   "metadata": {},
   "outputs": [],
   "source": [
    "#Country codes have changed to integers; this changes them back to country codes\n",
    "coviddb_selected.country.astype('int64')\n",
    "country_index = np.arange(0, 35, 1)\n",
    "country_dict = dict(zip(country_index, country_codes))\n",
    "coviddb_selected = coviddb_selected.replace({\"country\": country_dict})"
   ]
  },
  {
   "cell_type": "code",
   "execution_count": 4,
   "metadata": {},
   "outputs": [
    {
     "name": "stderr",
     "output_type": "stream",
     "text": [
      "C:\\Users\\melni\\AppData\\Local\\Temp\\ipykernel_11544\\1723132619.py:1: FutureWarning: Series.dt.weekofyear and Series.dt.week have been deprecated. Please use Series.dt.isocalendar().week instead.\n",
      "  week = coviddb_selected['date'].dt.week\n"
     ]
    }
   ],
   "source": [
    "week = coviddb_selected['date'].dt.week\n",
    "year = coviddb_selected['date'].dt.year\n",
    "coviddb_selected['week'] = week\n",
    "coviddb_selected['year'] = year"
   ]
  },
  {
   "cell_type": "code",
   "execution_count": 5,
   "metadata": {},
   "outputs": [],
   "source": [
    "#Reorder columns and remove original date\n",
    "cols = ['country', 'date', 'year', 'week', 'total_cases', 'new_cases', 'total_deaths', 'new_deaths', 'total_cases_per_million', 'hosp_patients', 'population']\n",
    "coviddb_selected = coviddb_selected[cols]"
   ]
  },
  {
   "cell_type": "code",
   "execution_count": 6,
   "metadata": {},
   "outputs": [
    {
     "data": {
      "text/plain": [
       "0         AUS\n",
       "1         AUS\n",
       "2         AUS\n",
       "3         AUS\n",
       "4         AUS\n",
       "         ... \n",
       "109255    USA\n",
       "109256    USA\n",
       "109257    USA\n",
       "109258    USA\n",
       "109259    USA\n",
       "Name: country, Length: 109260, dtype: category\n",
       "Categories (36, object): ['AUS', 'AUT', 'BEL', 'BGR', ..., 'SVN', 'SWE', 'TWN', 'USA']"
      ]
     },
     "execution_count": 6,
     "metadata": {},
     "output_type": "execute_result"
    }
   ],
   "source": [
    "#Convert hmd country codes to match covid db and match column titles\n",
    "country_conversion = { 'AUS2' : 'AUS', 'GBRTENW' : 'GBR', 'GBR_NIR' : 'GBR', 'GBR_SCO' : 'GBR', 'FRATNP' : 'FRA', 'DEUTNP' : 'DEU', 'NZL_NP' : 'NZL'}\n",
    "hmd = hmd.replace({\"CountryCode\" : country_conversion})\n",
    "hmd.rename(columns={'CountryCode' :'country', 'Year' : 'year', 'Week' : 'week'}, inplace = True)\n",
    "hmd.country.astype('category')"
   ]
  },
  {
   "cell_type": "code",
   "execution_count": 7,
   "metadata": {},
   "outputs": [],
   "source": [
    "#retain only the combined male and female deaths\n",
    "hmd= hmd[hmd.Sex == 'b']"
   ]
  },
  {
   "cell_type": "code",
   "execution_count": 8,
   "metadata": {},
   "outputs": [],
   "source": [
    "#merge various Great Britain rows into one\n",
    "hmd_selected = hmd.groupby(['country', 'week', 'year']).sum().reset_index()"
   ]
  },
  {
   "cell_type": "code",
   "execution_count": 9,
   "metadata": {},
   "outputs": [],
   "source": [
    "#Trim excess columns\n",
    "hmd = hmd_selected[['country', 'week', 'year', 'DTotal']]"
   ]
  },
  {
   "cell_type": "code",
   "execution_count": 10,
   "metadata": {},
   "outputs": [
    {
     "name": "stderr",
     "output_type": "stream",
     "text": [
      "C:\\Users\\melni\\AppData\\Local\\Temp\\ipykernel_11544\\2752251486.py:2: SettingWithCopyWarning: \n",
      "A value is trying to be set on a copy of a slice from a DataFrame.\n",
      "Try using .loc[row_indexer,col_indexer] = value instead\n",
      "\n",
      "See the caveats in the documentation: https://pandas.pydata.org/pandas-docs/stable/user_guide/indexing.html#returning-a-view-versus-a-copy\n",
      "  hmd['date'] = pd.to_datetime(hmd.week.astype(str) + hmd.year.astype(str).add('-7') ,format='%V%G-%u')\n"
     ]
    }
   ],
   "source": [
    "#adding a moving average of total deaths... \n",
    "hmd['date'] = pd.to_datetime(hmd.week.astype(str) + hmd.year.astype(str).add('-7') ,format='%V%G-%u')\n",
    "#hmd['date'] = pd.to_datetime(hmd['date'] + ' 0', format='%Y %W %w')\n",
    "hmd = hmd.sort_values(by='date')\n",
    "hmd['mov_avg'] = hmd.groupby('country')['DTotal'].transform(lambda x: x.rolling(7, 1).mean())"
   ]
  },
  {
   "cell_type": "code",
   "execution_count": 11,
   "metadata": {},
   "outputs": [],
   "source": [
    "#add years relative to 2020 for regression to predict deaths without including COVID\n",
    "hmd['years_relative'] = hmd['date'].dt.year - 2020\n",
    "#Drop Great Britain data prior to 2015--only 2015 on includes all four UK countries\n",
    "hmd.drop(hmd[(hmd.country == 'GBR') & (hmd.year < 2015)].index, inplace = True)"
   ]
  },
  {
   "cell_type": "code",
   "execution_count": 12,
   "metadata": {},
   "outputs": [],
   "source": [
    "#Perform linear regression to predict moving average of weekly deaths based on year (pre-2020)\n",
    "for country in country_codes:\n",
    "  for i in range(1, 53):\n",
    "    training_set = hmd[(hmd.country == country) & (hmd.years_relative < 0) & (hmd.week == i)]\n",
    "    model =  smf.ols(formula='mov_avg~years_relative', data=training_set).fit()\n",
    "    hmd.loc[(hmd.country == country) & (hmd.week == i), 'pred_deaths'] = model.predict(hmd[(hmd.country == country) & (hmd.week == i)])"
   ]
  },
  {
   "cell_type": "code",
   "execution_count": 13,
   "metadata": {},
   "outputs": [],
   "source": [
    "#Compute excess mortality\n",
    "hmd['excess_mortality'] = hmd['mov_avg'] - hmd['pred_deaths']"
   ]
  },
  {
   "cell_type": "code",
   "execution_count": 14,
   "metadata": {},
   "outputs": [],
   "source": [
    "#create a dictionary that translates country into population\n",
    "pop_dict = coviddb_selected.groupby('country')['population'].first().to_dict()\n",
    "#Use population to compute excess mortality per capita\n",
    "hmd['em_per_capita'] = hmd['excess_mortality'] / hmd['country'].map(pop_dict)"
   ]
  },
  {
   "cell_type": "code",
   "execution_count": 15,
   "metadata": {},
   "outputs": [],
   "source": [
    "#perform min-max normalization\n",
    "max_em_per_capita = hmd.em_per_capita.max()\n",
    "min_em_per_capita = hmd.em_per_capita.min()\n",
    "hmd['normalized_em'] = (hmd['em_per_capita'] - min_em_per_capita) / (max_em_per_capita - min_em_per_capita)"
   ]
  },
  {
   "cell_type": "code",
   "execution_count": 16,
   "metadata": {},
   "outputs": [],
   "source": [
    "#compute rolling average for new covid cases\n",
    "covid = coviddb_selected\n",
    "covid['mov_avg_cases'] = covid.groupby('country')['new_cases'].transform(lambda x: x.rolling(7, 1).mean())\n",
    "covid['new_cases_per_capita'] = covid['mov_avg_cases'] / covid['population']\n",
    "#and normalize\n",
    "max_cases_per_capita = covid.new_cases_per_capita.max()\n",
    "min_cases_per_capita = covid.new_cases_per_capita.min()\n",
    "covid['normalized_cases'] = (covid['new_cases_per_capita'] - min_cases_per_capita) / (max_cases_per_capita - min_cases_per_capita)"
   ]
  },
  {
   "cell_type": "code",
   "execution_count": 17,
   "metadata": {},
   "outputs": [],
   "source": [
    "#merge datasets\n",
    "merged_df = hmd.merge(covid, how='left', on=['country', 'date'])\n",
    "merged_df = merged_df.sort_values(by='date')"
   ]
  },
  {
   "cell_type": "code",
   "execution_count": 18,
   "metadata": {},
   "outputs": [],
   "source": [
    "merged_df.rename(columns={'week_x':'week', 'year_x' : 'year'}, inplace = True)\n",
    "merged_df = merged_df.drop(['year_y', 'week_y'], axis=1)"
   ]
  },
  {
   "cell_type": "code",
   "execution_count": 19,
   "metadata": {},
   "outputs": [],
   "source": [
    "merged_df.to_csv('clean_combined.csv', index=False)"
   ]
  },
  {
   "cell_type": "code",
   "execution_count": 20,
   "metadata": {},
   "outputs": [
    {
     "name": "stdout",
     "output_type": "stream",
     "text": [
      "0.017982702944009037 -0.0002590487422515\n"
     ]
    }
   ],
   "source": [
    "#Drop ITA due to extreme outlier aspect and renormalize\n",
    "drop_ITA = pd.read_csv('clean_combined.csv', parse_dates = ['date'])\n",
    "drop_ITA = drop_ITA[drop_ITA.country != 'ITA']\n",
    "ax_em_per_capita = drop_ITA.em_per_capita.max()\n",
    "min_em_per_capita = drop_ITA.em_per_capita.min()\n",
    "print(max_em_per_capita, min_em_per_capita)\n",
    "drop_ITA['normalized_em'] = (drop_ITA['em_per_capita'] - min_em_per_capita) / (max_em_per_capita - min_em_per_capita)\n",
    "drop_ITA.to_csv('clean_combined_no_ITA.csv', index=False)"
   ]
  },
  {
   "cell_type": "code",
   "execution_count": null,
   "metadata": {},
   "outputs": [],
   "source": []
  }
 ],
 "metadata": {
  "interpreter": {
   "hash": "f07a8180f57076bde2bfbb377716fbc0d470817ad2ce9f4b9204c8f5facd8e88"
  },
  "kernelspec": {
   "display_name": "Python 3.10.0 ('.venv': venv)",
   "language": "python",
   "name": "python3"
  },
  "language_info": {
   "codemirror_mode": {
    "name": "ipython",
    "version": 3
   },
   "file_extension": ".py",
   "mimetype": "text/x-python",
   "name": "python",
   "nbconvert_exporter": "python",
   "pygments_lexer": "ipython3",
   "version": "3.10.0"
  },
  "orig_nbformat": 4
 },
 "nbformat": 4,
 "nbformat_minor": 2
}
