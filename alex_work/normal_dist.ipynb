{
 "cells": [
  {
   "cell_type": "code",
   "execution_count": 2,
   "metadata": {},
   "outputs": [],
   "source": [
    "import pandas as pd\n",
    "import numpy as np\n",
    "import matplotlib.pyplot as plt\n",
    "%matplotlib inline\n",
    "import scipy as sp\n",
    "import scipy.stats as stats\n",
    "import statsmodels.formula.api as smf"
   ]
  },
  {
   "cell_type": "code",
   "execution_count": 3,
   "metadata": {},
   "outputs": [],
   "source": [
    "df = pd.read_csv(\"../clean_combined.csv\") \n"
   ]
  },
  {
   "cell_type": "code",
   "execution_count": 16,
   "metadata": {},
   "outputs": [
    {
     "ename": "AttributeError",
     "evalue": "'function' object has no attribute 'count'",
     "output_type": "error",
     "traceback": [
      "\u001b[1;31m---------------------------------------------------------------------------\u001b[0m",
      "\u001b[1;31mAttributeError\u001b[0m                            Traceback (most recent call last)",
      "\u001b[1;32mc:\\Projects\\GitHub\\DataMining4502\\alex_work\\normal_dist.ipynb Cell 3'\u001b[0m in \u001b[0;36m<cell line: 1>\u001b[1;34m()\u001b[0m\n\u001b[1;32m----> <a href='vscode-notebook-cell:/c%3A/Projects/GitHub/DataMining4502/alex_work/normal_dist.ipynb#ch0000005?line=0'>1</a>\u001b[0m df[df\u001b[39m.\u001b[39;49myears_relative \u001b[39m<\u001b[39;49m \u001b[39m0\u001b[39;49m]\u001b[39m.\u001b[39;49mem_per_capita\u001b[39m.\u001b[39;49misna\u001b[39m.\u001b[39;49mcount()\n",
      "\u001b[1;31mAttributeError\u001b[0m: 'function' object has no attribute 'count'"
     ]
    }
   ],
   "source": []
  },
  {
   "cell_type": "code",
   "execution_count": 22,
   "metadata": {},
   "outputs": [],
   "source": [
    "precovid_mortality = df[df.years_relative < 0].em_per_capita.dropna()\n",
    "precovid_mortality = precovid_mortality.tolist()"
   ]
  },
  {
   "cell_type": "code",
   "execution_count": 25,
   "metadata": {},
   "outputs": [],
   "source": [
    "em_per_capita_dist = stats.norm.fit(precovid_mortality)"
   ]
  },
  {
   "cell_type": "code",
   "execution_count": 28,
   "metadata": {},
   "outputs": [
    {
     "name": "stdout",
     "output_type": "stream",
     "text": [
      "c1 is -1.4172257608963227e-05 c2 is 1.4172257608963305e-05\n"
     ]
    }
   ],
   "source": [
    "c1 = stats.norm(em_per_capita_dist[0], em_per_capita_dist[1]).ppf((1-0.90)/2)\n",
    "c2 = stats.norm(em_per_capita_dist[0], em_per_capita_dist[1]).ppf(1-(1-0.90)/2)\n",
    "print('c1 is', c1, 'c2 is', c2)"
   ]
  },
  {
   "cell_type": "code",
   "execution_count": 32,
   "metadata": {},
   "outputs": [
    {
     "data": {
      "text/plain": [
       "[<matplotlib.lines.Line2D at 0x284f2b44100>]"
      ]
     },
     "execution_count": 32,
     "metadata": {},
     "output_type": "execute_result"
    },
    {
     "data": {
      "image/png": "[encoded data removed]",
      "text/plain": [
       "<Figure size 720x432 with 1 Axes>"
      ]
     },
     "metadata": {
      "needs_background": "light"
     },
     "output_type": "display_data"
    }
   ],
   "source": [
    "plt.figure(figsize=(10,6))\n",
    "x = np.linspace(c1,c2,100)\n",
    "plt.plot(x, stats.norm(em_per_capita_dist[0], em_per_capita_dist[1]).pdf(x))"
   ]
  },
  {
   "cell_type": "code",
   "execution_count": 40,
   "metadata": {},
   "outputs": [
    {
     "data": {
      "text/html": [
       "<div>\n",
       "<style scoped>\n",
       "    .dataframe tbody tr th:only-of-type {\n",
       "        vertical-align: middle;\n",
       "    }\n",
       "\n",
       "    .dataframe tbody tr th {\n",
       "        vertical-align: top;\n",
       "    }\n",
       "\n",
       "    .dataframe thead th {\n",
       "        text-align: right;\n",
       "    }\n",
       "</style>\n",
       "<table border=\"1\" class=\"dataframe\">\n",
       "  <thead>\n",
       "    <tr style=\"text-align: right;\">\n",
       "      <th></th>\n",
       "      <th>country</th>\n",
       "      <th>week</th>\n",
       "      <th>year</th>\n",
       "      <th>DTotal</th>\n",
       "      <th>date</th>\n",
       "      <th>mov_avg</th>\n",
       "      <th>years_relative</th>\n",
       "      <th>pred_deaths</th>\n",
       "      <th>excess_mortality</th>\n",
       "      <th>em_per_capita</th>\n",
       "      <th>...</th>\n",
       "      <th>new_cases</th>\n",
       "      <th>total_deaths</th>\n",
       "      <th>new_deaths</th>\n",
       "      <th>total_cases_per_million</th>\n",
       "      <th>hosp_patients</th>\n",
       "      <th>population</th>\n",
       "      <th>mov_avg_cases</th>\n",
       "      <th>new_cases_per_capita</th>\n",
       "      <th>normalized_cases</th>\n",
       "      <th>em_z_score</th>\n",
       "    </tr>\n",
       "  </thead>\n",
       "  <tbody>\n",
       "    <tr>\n",
       "      <th>0</th>\n",
       "      <td>FIN</td>\n",
       "      <td>1</td>\n",
       "      <td>1990</td>\n",
       "      <td>1146.0</td>\n",
       "      <td>1990-01-07</td>\n",
       "      <td>1146.000000</td>\n",
       "      <td>-30</td>\n",
       "      <td>995.164977</td>\n",
       "      <td>150.835023</td>\n",
       "      <td>0.000027</td>\n",
       "      <td>...</td>\n",
       "      <td>NaN</td>\n",
       "      <td>NaN</td>\n",
       "      <td>NaN</td>\n",
       "      <td>NaN</td>\n",
       "      <td>NaN</td>\n",
       "      <td>NaN</td>\n",
       "      <td>NaN</td>\n",
       "      <td>NaN</td>\n",
       "      <td>NaN</td>\n",
       "      <td>3.155191</td>\n",
       "    </tr>\n",
       "    <tr>\n",
       "      <th>1</th>\n",
       "      <td>FIN</td>\n",
       "      <td>2</td>\n",
       "      <td>1990</td>\n",
       "      <td>1139.0</td>\n",
       "      <td>1990-01-14</td>\n",
       "      <td>1142.500000</td>\n",
       "      <td>-30</td>\n",
       "      <td>1009.888018</td>\n",
       "      <td>132.611982</td>\n",
       "      <td>0.000024</td>\n",
       "      <td>...</td>\n",
       "      <td>NaN</td>\n",
       "      <td>NaN</td>\n",
       "      <td>NaN</td>\n",
       "      <td>NaN</td>\n",
       "      <td>NaN</td>\n",
       "      <td>NaN</td>\n",
       "      <td>NaN</td>\n",
       "      <td>NaN</td>\n",
       "      <td>NaN</td>\n",
       "      <td>2.773999</td>\n",
       "    </tr>\n",
       "    <tr>\n",
       "      <th>2</th>\n",
       "      <td>FIN</td>\n",
       "      <td>3</td>\n",
       "      <td>1990</td>\n",
       "      <td>1185.0</td>\n",
       "      <td>1990-01-21</td>\n",
       "      <td>1156.666667</td>\n",
       "      <td>-30</td>\n",
       "      <td>1020.113159</td>\n",
       "      <td>136.553507</td>\n",
       "      <td>0.000025</td>\n",
       "      <td>...</td>\n",
       "      <td>NaN</td>\n",
       "      <td>NaN</td>\n",
       "      <td>NaN</td>\n",
       "      <td>NaN</td>\n",
       "      <td>NaN</td>\n",
       "      <td>NaN</td>\n",
       "      <td>NaN</td>\n",
       "      <td>NaN</td>\n",
       "      <td>NaN</td>\n",
       "      <td>2.856448</td>\n",
       "    </tr>\n",
       "    <tr>\n",
       "      <th>3</th>\n",
       "      <td>FIN</td>\n",
       "      <td>4</td>\n",
       "      <td>1990</td>\n",
       "      <td>1164.0</td>\n",
       "      <td>1990-01-28</td>\n",
       "      <td>1158.500000</td>\n",
       "      <td>-30</td>\n",
       "      <td>1024.963902</td>\n",
       "      <td>133.536098</td>\n",
       "      <td>0.000024</td>\n",
       "      <td>...</td>\n",
       "      <td>NaN</td>\n",
       "      <td>NaN</td>\n",
       "      <td>NaN</td>\n",
       "      <td>NaN</td>\n",
       "      <td>NaN</td>\n",
       "      <td>NaN</td>\n",
       "      <td>NaN</td>\n",
       "      <td>NaN</td>\n",
       "      <td>NaN</td>\n",
       "      <td>2.793330</td>\n",
       "    </tr>\n",
       "    <tr>\n",
       "      <th>4</th>\n",
       "      <td>FIN</td>\n",
       "      <td>5</td>\n",
       "      <td>1990</td>\n",
       "      <td>1103.0</td>\n",
       "      <td>1990-02-04</td>\n",
       "      <td>1147.400000</td>\n",
       "      <td>-30</td>\n",
       "      <td>1022.074409</td>\n",
       "      <td>125.325591</td>\n",
       "      <td>0.000023</td>\n",
       "      <td>...</td>\n",
       "      <td>NaN</td>\n",
       "      <td>NaN</td>\n",
       "      <td>NaN</td>\n",
       "      <td>NaN</td>\n",
       "      <td>NaN</td>\n",
       "      <td>NaN</td>\n",
       "      <td>NaN</td>\n",
       "      <td>NaN</td>\n",
       "      <td>NaN</td>\n",
       "      <td>2.621581</td>\n",
       "    </tr>\n",
       "    <tr>\n",
       "      <th>...</th>\n",
       "      <td>...</td>\n",
       "      <td>...</td>\n",
       "      <td>...</td>\n",
       "      <td>...</td>\n",
       "      <td>...</td>\n",
       "      <td>...</td>\n",
       "      <td>...</td>\n",
       "      <td>...</td>\n",
       "      <td>...</td>\n",
       "      <td>...</td>\n",
       "      <td>...</td>\n",
       "      <td>...</td>\n",
       "      <td>...</td>\n",
       "      <td>...</td>\n",
       "      <td>...</td>\n",
       "      <td>...</td>\n",
       "      <td>...</td>\n",
       "      <td>...</td>\n",
       "      <td>...</td>\n",
       "      <td>...</td>\n",
       "      <td>...</td>\n",
       "    </tr>\n",
       "    <tr>\n",
       "      <th>34634</th>\n",
       "      <td>DNK</td>\n",
       "      <td>4</td>\n",
       "      <td>2022</td>\n",
       "      <td>1172.0</td>\n",
       "      <td>2022-01-30</td>\n",
       "      <td>1245.428571</td>\n",
       "      <td>2</td>\n",
       "      <td>1047.255887</td>\n",
       "      <td>198.172684</td>\n",
       "      <td>0.000034</td>\n",
       "      <td>...</td>\n",
       "      <td>315652.0</td>\n",
       "      <td>3621.0</td>\n",
       "      <td>130.0</td>\n",
       "      <td>247394.854</td>\n",
       "      <td>894.0</td>\n",
       "      <td>5813302.0</td>\n",
       "      <td>165585.142857</td>\n",
       "      <td>0.028484</td>\n",
       "      <td>0.884762</td>\n",
       "      <td>3.956481</td>\n",
       "    </tr>\n",
       "    <tr>\n",
       "      <th>34635</th>\n",
       "      <td>NLD</td>\n",
       "      <td>5</td>\n",
       "      <td>2022</td>\n",
       "      <td>3450.0</td>\n",
       "      <td>2022-02-06</td>\n",
       "      <td>3384.285714</td>\n",
       "      <td>2</td>\n",
       "      <td>3112.960176</td>\n",
       "      <td>271.325538</td>\n",
       "      <td>0.000016</td>\n",
       "      <td>...</td>\n",
       "      <td>436879.0</td>\n",
       "      <td>21356.0</td>\n",
       "      <td>42.0</td>\n",
       "      <td>258648.325</td>\n",
       "      <td>1035.0</td>\n",
       "      <td>17173094.0</td>\n",
       "      <td>254533.428571</td>\n",
       "      <td>0.014822</td>\n",
       "      <td>0.460388</td>\n",
       "      <td>1.833709</td>\n",
       "    </tr>\n",
       "    <tr>\n",
       "      <th>34636</th>\n",
       "      <td>DNK</td>\n",
       "      <td>5</td>\n",
       "      <td>2022</td>\n",
       "      <td>1193.0</td>\n",
       "      <td>2022-02-06</td>\n",
       "      <td>1236.428571</td>\n",
       "      <td>2</td>\n",
       "      <td>1067.978022</td>\n",
       "      <td>168.450549</td>\n",
       "      <td>0.000029</td>\n",
       "      <td>...</td>\n",
       "      <td>213855.0</td>\n",
       "      <td>3755.0</td>\n",
       "      <td>90.0</td>\n",
       "      <td>299755.457</td>\n",
       "      <td>1028.0</td>\n",
       "      <td>5813302.0</td>\n",
       "      <td>187152.285714</td>\n",
       "      <td>0.032194</td>\n",
       "      <td>1.000000</td>\n",
       "      <td>3.363084</td>\n",
       "    </tr>\n",
       "    <tr>\n",
       "      <th>34637</th>\n",
       "      <td>EST</td>\n",
       "      <td>5</td>\n",
       "      <td>2022</td>\n",
       "      <td>373.0</td>\n",
       "      <td>2022-02-06</td>\n",
       "      <td>370.142857</td>\n",
       "      <td>2</td>\n",
       "      <td>291.146316</td>\n",
       "      <td>78.996541</td>\n",
       "      <td>0.000060</td>\n",
       "      <td>...</td>\n",
       "      <td>33509.0</td>\n",
       "      <td>2033.0</td>\n",
       "      <td>17.0</td>\n",
       "      <td>254713.294</td>\n",
       "      <td>NaN</td>\n",
       "      <td>1325188.0</td>\n",
       "      <td>19138.428571</td>\n",
       "      <td>0.014442</td>\n",
       "      <td>0.448597</td>\n",
       "      <td>6.918609</td>\n",
       "    </tr>\n",
       "    <tr>\n",
       "      <th>34638</th>\n",
       "      <td>GBR</td>\n",
       "      <td>5</td>\n",
       "      <td>2022</td>\n",
       "      <td>1610.0</td>\n",
       "      <td>2022-02-06</td>\n",
       "      <td>11961.571429</td>\n",
       "      <td>2</td>\n",
       "      <td>12989.842857</td>\n",
       "      <td>-1028.271429</td>\n",
       "      <td>-0.000015</td>\n",
       "      <td>...</td>\n",
       "      <td>375679.0</td>\n",
       "      <td>155885.0</td>\n",
       "      <td>1168.0</td>\n",
       "      <td>254488.777</td>\n",
       "      <td>15734.0</td>\n",
       "      <td>68207114.0</td>\n",
       "      <td>786013.428571</td>\n",
       "      <td>0.011524</td>\n",
       "      <td>0.357955</td>\n",
       "      <td>-1.749711</td>\n",
       "    </tr>\n",
       "  </tbody>\n",
       "</table>\n",
       "<p>34639 rows × 22 columns</p>\n",
       "</div>"
      ],
      "text/plain": [
       "      country  week  year  DTotal        date       mov_avg  years_relative  \\\n",
       "0         FIN     1  1990  1146.0  1990-01-07   1146.000000             -30   \n",
       "1         FIN     2  1990  1139.0  1990-01-14   1142.500000             -30   \n",
       "2         FIN     3  1990  1185.0  1990-01-21   1156.666667             -30   \n",
       "3         FIN     4  1990  1164.0  1990-01-28   1158.500000             -30   \n",
       "4         FIN     5  1990  1103.0  1990-02-04   1147.400000             -30   \n",
       "...       ...   ...   ...     ...         ...           ...             ...   \n",
       "34634     DNK     4  2022  1172.0  2022-01-30   1245.428571               2   \n",
       "34635     NLD     5  2022  3450.0  2022-02-06   3384.285714               2   \n",
       "34636     DNK     5  2022  1193.0  2022-02-06   1236.428571               2   \n",
       "34637     EST     5  2022   373.0  2022-02-06    370.142857               2   \n",
       "34638     GBR     5  2022  1610.0  2022-02-06  11961.571429               2   \n",
       "\n",
       "        pred_deaths  excess_mortality  em_per_capita  ...  new_cases  \\\n",
       "0        995.164977        150.835023       0.000027  ...        NaN   \n",
       "1       1009.888018        132.611982       0.000024  ...        NaN   \n",
       "2       1020.113159        136.553507       0.000025  ...        NaN   \n",
       "3       1024.963902        133.536098       0.000024  ...        NaN   \n",
       "4       1022.074409        125.325591       0.000023  ...        NaN   \n",
       "...             ...               ...            ...  ...        ...   \n",
       "34634   1047.255887        198.172684       0.000034  ...   315652.0   \n",
       "34635   3112.960176        271.325538       0.000016  ...   436879.0   \n",
       "34636   1067.978022        168.450549       0.000029  ...   213855.0   \n",
       "34637    291.146316         78.996541       0.000060  ...    33509.0   \n",
       "34638  12989.842857      -1028.271429      -0.000015  ...   375679.0   \n",
       "\n",
       "       total_deaths  new_deaths  total_cases_per_million  hosp_patients  \\\n",
       "0               NaN         NaN                      NaN            NaN   \n",
       "1               NaN         NaN                      NaN            NaN   \n",
       "2               NaN         NaN                      NaN            NaN   \n",
       "3               NaN         NaN                      NaN            NaN   \n",
       "4               NaN         NaN                      NaN            NaN   \n",
       "...             ...         ...                      ...            ...   \n",
       "34634        3621.0       130.0               247394.854          894.0   \n",
       "34635       21356.0        42.0               258648.325         1035.0   \n",
       "34636        3755.0        90.0               299755.457         1028.0   \n",
       "34637        2033.0        17.0               254713.294            NaN   \n",
       "34638      155885.0      1168.0               254488.777        15734.0   \n",
       "\n",
       "       population  mov_avg_cases  new_cases_per_capita  normalized_cases  \\\n",
       "0             NaN            NaN                   NaN               NaN   \n",
       "1             NaN            NaN                   NaN               NaN   \n",
       "2             NaN            NaN                   NaN               NaN   \n",
       "3             NaN            NaN                   NaN               NaN   \n",
       "4             NaN            NaN                   NaN               NaN   \n",
       "...           ...            ...                   ...               ...   \n",
       "34634   5813302.0  165585.142857              0.028484          0.884762   \n",
       "34635  17173094.0  254533.428571              0.014822          0.460388   \n",
       "34636   5813302.0  187152.285714              0.032194          1.000000   \n",
       "34637   1325188.0   19138.428571              0.014442          0.448597   \n",
       "34638  68207114.0  786013.428571              0.011524          0.357955   \n",
       "\n",
       "       em_z_score  \n",
       "0        3.155191  \n",
       "1        2.773999  \n",
       "2        2.856448  \n",
       "3        2.793330  \n",
       "4        2.621581  \n",
       "...           ...  \n",
       "34634    3.956481  \n",
       "34635    1.833709  \n",
       "34636    3.363084  \n",
       "34637    6.918609  \n",
       "34638   -1.749711  \n",
       "\n",
       "[34639 rows x 22 columns]"
      ]
     },
     "execution_count": 40,
     "metadata": {},
     "output_type": "execute_result"
    }
   ],
   "source": [
    "df['em_z_score'] = (df['em_per_capita'] - em_per_capita_dist[0])/em_per_capita_dist[1]\n",
    "df"
   ]
  },
  {
   "cell_type": "code",
   "execution_count": 41,
   "metadata": {},
   "outputs": [
    {
     "data": {
      "text/plain": [
       "[<matplotlib.lines.Line2D at 0x284f2bdea40>]"
      ]
     },
     "execution_count": 41,
     "metadata": {},
     "output_type": "execute_result"
    },
    {
     "data": {
      "image/png": "[encoded data removed]",
      "text/plain": [
       "<Figure size 432x288 with 1 Axes>"
      ]
     },
     "metadata": {
      "needs_background": "light"
     },
     "output_type": "display_data"
    }
   ],
   "source": [
    "plt.plot(df['em_z_score'])"
   ]
  },
  {
   "cell_type": "code",
   "execution_count": 48,
   "metadata": {},
   "outputs": [],
   "source": [
    "df.to_csv('z_score.csv', index=False)"
   ]
  },
  {
   "cell_type": "code",
   "execution_count": 70,
   "metadata": {},
   "outputs": [],
   "source": [
    "country_rank = df[(df.em_z_score > 1.96) & (df.years_relative >= 0)].groupby('country').count()"
   ]
  },
  {
   "cell_type": "code",
   "execution_count": 71,
   "metadata": {},
   "outputs": [],
   "source": [
    "country_rank.sort_values(by='country')\n",
    "country_rank.to_csv('country_rank.csv')"
   ]
  },
  {
   "cell_type": "code",
   "execution_count": 60,
   "metadata": {},
   "outputs": [],
   "source": [
    "country_codes = ['AUS', 'AUT', 'BEL', 'BGR', 'CAN', 'CHE', 'CHL', 'CZE', 'DEU', 'DNK', 'ESP', 'EST',\n",
    " 'FIN', 'FRA', 'GBR', 'GRC', 'HRV', 'HUN', 'ISL', 'ISR', 'ITA', 'KOR', 'LTU', 'LUX', 'LVA', 'NLD',\n",
    " 'NZL', 'NOR', 'POL', 'PRT', 'RUS', 'SVN', 'SVK', 'SWE', 'TWN', 'USA']"
   ]
  },
  {
   "cell_type": "code",
   "execution_count": 74,
   "metadata": {},
   "outputs": [],
   "source": [
    "rankdf = pd.read_csv(\"country_rank.csv\")"
   ]
  },
  {
   "cell_type": "code",
   "execution_count": 75,
   "metadata": {},
   "outputs": [],
   "source": [
    "rankdf['percent_excess'] = rankdf['em_z_score'] / 104"
   ]
  },
  {
   "cell_type": "code",
   "execution_count": 77,
   "metadata": {},
   "outputs": [],
   "source": [
    "rankdf.to_csv('country_rank.csv')"
   ]
  }
 ],
 "metadata": {
  "interpreter": {
   "hash": "f07a8180f57076bde2bfbb377716fbc0d470817ad2ce9f4b9204c8f5facd8e88"
  },
  "kernelspec": {
   "display_name": "Python 3.10.0 ('.venv': venv)",
   "language": "python",
   "name": "python3"
  },
  "language_info": {
   "codemirror_mode": {
    "name": "ipython",
    "version": 3
   },
   "file_extension": ".py",
   "mimetype": "text/x-python",
   "name": "python",
   "nbconvert_exporter": "python",
   "pygments_lexer": "ipython3",
   "version": "3.10.0"
  },
  "orig_nbformat": 4
 },
 "nbformat": 4,
 "nbformat_minor": 2
}
